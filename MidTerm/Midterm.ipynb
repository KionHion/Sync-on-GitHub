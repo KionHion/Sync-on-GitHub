{
 "cells": [
  {
   "cell_type": "markdown",
   "metadata": {},
   "source": [
    "## YouTube會把我送去哪？？？\n",
    "\n",
    "每次開始看YouTube，幾個小時就會開始看一些很莫名的影片，我也不知道自己為什麼會出現在那裡。所以我很好奇，如果我輸入某個關鍵字，在按下YouTube的n個推薦影片後，我會出現在哪裡？"
   ]
  },
  {
   "cell_type": "code",
   "execution_count": null,
   "metadata": {},
   "outputs": [],
   "source": [
    "def where_will_youtube_send_me(Keyword,n):\n",
    "    !pip install selenium\n",
    "    from selenium import webdriver \n",
    "    import time\n",
    "    driver = webdriver.Chrome(executable_path=r\"D:\\Users\\Ooi\\Desktop\\chromedriver.exe\")\n",
    "    driver.get(\"https://www.youtube.com\")\n",
    "    time.sleep(1)\n",
    "    elem = driver.find_element_by_css_selector(\"#search-input #search\")\n",
    "    elem.send_keys(Keyword)\n",
    "    elem = driver.find_element_by_css_selector(\"#search-icon-legacy .ytd-searchbox\")\n",
    "    elem.click()\n",
    "    time.sleep(1)\n",
    "    elem = driver.find_element_by_css_selector(\".ytd-item-section-renderer:nth-child(1) #dismissable .ytd-video-renderer\")\n",
    "    elem.click()\n",
    "    time.sleep(2)\n",
    "    for x in range(n):\n",
    "        elem = driver.find_element_by_xpath(\"/html/body/ytd-app/div[@id='content']/ytd-page-manager[@id='page-manager']/ytd-watch-flexy[@class='style-scope ytd-page-manager hide-skeleton']/div[@id='columns']/div[@id='secondary']/div[@id='secondary-inner']/div[@id='related']/ytd-watch-next-secondary-results-renderer[@class='style-scope ytd-watch-flexy']/div[@id='items']/ytd-compact-video-renderer[@class='style-scope ytd-watch-next-secondary-results-renderer'][1]/div[@id='dismissable']/div[@class='metadata style-scope ytd-compact-video-renderer']/a[@class='yt-simple-endpoint style-scope ytd-compact-video-renderer']/h3[@class='style-scope ytd-compact-video-renderer']/span[@id='video-title']\")\n",
    "        elem.click()\n",
    "        time.sleep(2)\n",
    "    print(driver.current_url)"
   ]
  },
  {
   "cell_type": "code",
   "execution_count": null,
   "metadata": {},
   "outputs": [],
   "source": [
    "where_will_youtube_send_me(\"台北美食\", 20)"
   ]
  }
 ],
 "metadata": {
  "kernelspec": {
   "display_name": "Python 3",
   "language": "python",
   "name": "python3"
  },
  "language_info": {
   "codemirror_mode": {
    "name": "ipython",
    "version": 3
   },
   "file_extension": ".py",
   "mimetype": "text/x-python",
   "name": "python",
   "nbconvert_exporter": "python",
   "pygments_lexer": "ipython3",
   "version": "3.6.5"
  }
 },
 "nbformat": 4,
 "nbformat_minor": 2
}
