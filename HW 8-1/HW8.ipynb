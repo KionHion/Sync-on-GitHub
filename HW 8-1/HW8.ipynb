{
  "nbformat": 4,
  "nbformat_minor": 0,
  "metadata": {
    "colab": {
      "name": "HW8.ipynb",
      "version": "0.3.2",
      "provenance": [],
      "collapsed_sections": []
    },
    "kernelspec": {
      "name": "python3",
      "display_name": "Python 3"
    },
    "accelerator": "TPU"
  },
  "cells": [
    {
      "cell_type": "markdown",
      "metadata": {
        "id": "GYfvgKVdC21_",
        "colab_type": "text"
      },
      "source": [
        "# HW 8-1 \n",
        "這次還是用回上次的資料庫來訓練"
      ]
    },
    {
      "cell_type": "code",
      "metadata": {
        "id": "0aWGS3PNKqqF",
        "colab_type": "code",
        "colab": {
          "base_uri": "https://localhost:8080/",
          "height": 35
        },
        "outputId": "f7fff912-9f20-4a46-a039-209924afbe05"
      },
      "source": [
        "%env KERAS_BACKEND=tensorflow\n",
        "\n",
        "%matplotlib inline\n",
        "\n",
        "import numpy as np\n",
        "import matplotlib.pyplot as plt\n",
        "\n",
        "from keras.datasets import mnist\n",
        "from keras.utils import np_utils\n",
        "\n",
        "from keras.models import Sequential\n",
        "from keras.layers import Dense, Activation\n",
        "from keras.optimizers import SGD\n",
        "\n",
        "from keras.models import Model\n",
        "from keras.layers import Input\n",
        "\n",
        "from keras.layers import concatenate, add"
      ],
      "execution_count": 83,
      "outputs": [
        {
          "output_type": "stream",
          "text": [
            "env: KERAS_BACKEND=tensorflow\n"
          ],
          "name": "stdout"
        }
      ]
    },
    {
      "cell_type": "code",
      "metadata": {
        "id": "nPGYhPbILr00",
        "colab_type": "code",
        "colab": {}
      },
      "source": [
        "(x_train_1, y_train_1), (x_test_1, y_test_1) = mnist.load_data()"
      ],
      "execution_count": 0,
      "outputs": []
    },
    {
      "cell_type": "code",
      "metadata": {
        "id": "E0Ph3TAYLwIA",
        "colab_type": "code",
        "colab": {}
      },
      "source": [
        "x_train_1 = x_train_1.reshape(60000, 784)\n",
        "x_test_1 = x_test_1.reshape(10000, 784)"
      ],
      "execution_count": 0,
      "outputs": []
    },
    {
      "cell_type": "code",
      "metadata": {
        "id": "m7Zgy7oFPFXv",
        "colab_type": "code",
        "colab": {}
      },
      "source": [
        "y_train_1 = np_utils.to_categorical(y_train_1, 10)\n",
        "y_test_1 = np_utils.to_categorical(y_test_1, 10)"
      ],
      "execution_count": 0,
      "outputs": []
    },
    {
      "cell_type": "code",
      "metadata": {
        "id": "rfljC4HAPGLX",
        "colab_type": "code",
        "colab": {}
      },
      "source": [
        "f_1 = Dense(550, activation='sigmoid')\n",
        "f_2 = Dense(150, activation='relu')\n",
        "f_3 = Dense(50, activation='sigmoid')\n",
        "f_4 = Dense(50, activation='relu')\n",
        "f_5 = Dense(10, activation='softmax')"
      ],
      "execution_count": 0,
      "outputs": []
    },
    {
      "cell_type": "code",
      "metadata": {
        "id": "4Wu7F424ZiUu",
        "colab_type": "code",
        "colab": {}
      },
      "source": [
        "x = Input(shape=(784,))"
      ],
      "execution_count": 0,
      "outputs": []
    },
    {
      "cell_type": "code",
      "metadata": {
        "id": "u2DSPDPfZkj0",
        "colab_type": "code",
        "colab": {}
      },
      "source": [
        "h_1 = f_1(x)\n",
        "h_2 = f_2(h_1)\n",
        "h_3 = f_3(h_2)\n",
        "h_4 = f_4(h_2)"
      ],
      "execution_count": 0,
      "outputs": []
    },
    {
      "cell_type": "code",
      "metadata": {
        "id": "WBtR2imvZoQe",
        "colab_type": "code",
        "colab": {}
      },
      "source": [
        "u = concatenate([h_3, h_4])\n",
        "y = f_5(u)"
      ],
      "execution_count": 0,
      "outputs": []
    },
    {
      "cell_type": "code",
      "metadata": {
        "id": "5_eIPTGckTJ6",
        "colab_type": "code",
        "colab": {
          "base_uri": "https://localhost:8080/",
          "height": 417
        },
        "outputId": "da91df80-0437-40c1-d048-de656d0081f2"
      },
      "source": [
        "model = Model(x, y)\n",
        "model.summary()"
      ],
      "execution_count": 91,
      "outputs": [
        {
          "output_type": "stream",
          "text": [
            "__________________________________________________________________________________________________\n",
            "Layer (type)                    Output Shape         Param #     Connected to                     \n",
            "==================================================================================================\n",
            "input_9 (InputLayer)            (None, 784)          0                                            \n",
            "__________________________________________________________________________________________________\n",
            "dense_41 (Dense)                (None, 550)          431750      input_9[0][0]                    \n",
            "__________________________________________________________________________________________________\n",
            "dense_42 (Dense)                (None, 150)          82650       dense_41[0][0]                   \n",
            "__________________________________________________________________________________________________\n",
            "dense_43 (Dense)                (None, 50)           7550        dense_42[0][0]                   \n",
            "__________________________________________________________________________________________________\n",
            "dense_44 (Dense)                (None, 50)           7550        dense_42[0][0]                   \n",
            "__________________________________________________________________________________________________\n",
            "concatenate_9 (Concatenate)     (None, 100)          0           dense_43[0][0]                   \n",
            "                                                                 dense_44[0][0]                   \n",
            "__________________________________________________________________________________________________\n",
            "dense_45 (Dense)                (None, 10)           1010        concatenate_9[0][0]              \n",
            "==================================================================================================\n",
            "Total params: 530,510\n",
            "Trainable params: 530,510\n",
            "Non-trainable params: 0\n",
            "__________________________________________________________________________________________________\n"
          ],
          "name": "stdout"
        }
      ]
    },
    {
      "cell_type": "code",
      "metadata": {
        "id": "E0UiSzHjkOyt",
        "colab_type": "code",
        "colab": {}
      },
      "source": [
        "model.compile(loss='mse', optimizer=SGD(lr=0.08), metrics=['accuracy'])"
      ],
      "execution_count": 0,
      "outputs": []
    },
    {
      "cell_type": "code",
      "metadata": {
        "id": "lIsmIzV8ZwWI",
        "colab_type": "code",
        "colab": {
          "base_uri": "https://localhost:8080/",
          "height": 962
        },
        "outputId": "7e2b40a4-854b-4ef0-9399-317c946e491c"
      },
      "source": [
        "model.fit(x_train_1, y_train_1, \n",
        "          batch_size=60, \n",
        "          epochs=25, \n",
        "          verbose=1, \n",
        "          validation_data=(x_test_1, y_test_1))"
      ],
      "execution_count": 93,
      "outputs": [
        {
          "output_type": "stream",
          "text": [
            "Train on 60000 samples, validate on 10000 samples\n",
            "Epoch 1/25\n",
            "60000/60000 [==============================] - 9s 155us/step - loss: 0.0500 - acc: 0.6467 - val_loss: 0.0219 - val_acc: 0.8733\n",
            "Epoch 2/25\n",
            "60000/60000 [==============================] - 9s 143us/step - loss: 0.0175 - acc: 0.8959 - val_loss: 0.0139 - val_acc: 0.9134\n",
            "Epoch 3/25\n",
            "60000/60000 [==============================] - 9s 149us/step - loss: 0.0128 - acc: 0.9205 - val_loss: 0.0114 - val_acc: 0.9278\n",
            "Epoch 4/25\n",
            "60000/60000 [==============================] - 8s 139us/step - loss: 0.0107 - acc: 0.9336 - val_loss: 0.0102 - val_acc: 0.9341\n",
            "Epoch 5/25\n",
            "60000/60000 [==============================] - 9s 148us/step - loss: 0.0094 - acc: 0.9410 - val_loss: 0.0094 - val_acc: 0.9407\n",
            "Epoch 6/25\n",
            "60000/60000 [==============================] - 9s 156us/step - loss: 0.0085 - acc: 0.9477 - val_loss: 0.0088 - val_acc: 0.9440\n",
            "Epoch 7/25\n",
            "60000/60000 [==============================] - 9s 155us/step - loss: 0.0078 - acc: 0.9523 - val_loss: 0.0082 - val_acc: 0.9477\n",
            "Epoch 8/25\n",
            "60000/60000 [==============================] - 9s 154us/step - loss: 0.0071 - acc: 0.9567 - val_loss: 0.0080 - val_acc: 0.9497\n",
            "Epoch 9/25\n",
            "60000/60000 [==============================] - 9s 152us/step - loss: 0.0066 - acc: 0.9595 - val_loss: 0.0076 - val_acc: 0.9496\n",
            "Epoch 10/25\n",
            "60000/60000 [==============================] - 9s 154us/step - loss: 0.0061 - acc: 0.9628 - val_loss: 0.0072 - val_acc: 0.9534\n",
            "Epoch 11/25\n",
            "60000/60000 [==============================] - 9s 157us/step - loss: 0.0058 - acc: 0.9650 - val_loss: 0.0070 - val_acc: 0.9549\n",
            "Epoch 12/25\n",
            "60000/60000 [==============================] - 9s 144us/step - loss: 0.0054 - acc: 0.9680 - val_loss: 0.0067 - val_acc: 0.9561\n",
            "Epoch 13/25\n",
            "60000/60000 [==============================] - 9s 156us/step - loss: 0.0051 - acc: 0.9697 - val_loss: 0.0065 - val_acc: 0.9583\n",
            "Epoch 14/25\n",
            "60000/60000 [==============================] - 9s 156us/step - loss: 0.0047 - acc: 0.9725 - val_loss: 0.0064 - val_acc: 0.9561\n",
            "Epoch 15/25\n",
            "60000/60000 [==============================] - 9s 152us/step - loss: 0.0044 - acc: 0.9745 - val_loss: 0.0065 - val_acc: 0.9574\n",
            "Epoch 16/25\n",
            "60000/60000 [==============================] - 9s 156us/step - loss: 0.0042 - acc: 0.9762 - val_loss: 0.0064 - val_acc: 0.9576\n",
            "Epoch 17/25\n",
            "60000/60000 [==============================] - 10s 167us/step - loss: 0.0040 - acc: 0.9773 - val_loss: 0.0062 - val_acc: 0.9595\n",
            "Epoch 18/25\n",
            "60000/60000 [==============================] - 10s 172us/step - loss: 0.0038 - acc: 0.9777 - val_loss: 0.0061 - val_acc: 0.9600\n",
            "Epoch 19/25\n",
            "60000/60000 [==============================] - 10s 172us/step - loss: 0.0036 - acc: 0.9797 - val_loss: 0.0060 - val_acc: 0.9592\n",
            "Epoch 20/25\n",
            "60000/60000 [==============================] - 11s 183us/step - loss: 0.0034 - acc: 0.9807 - val_loss: 0.0058 - val_acc: 0.9627\n",
            "Epoch 21/25\n",
            "60000/60000 [==============================] - 10s 171us/step - loss: 0.0033 - acc: 0.9816 - val_loss: 0.0058 - val_acc: 0.9620\n",
            "Epoch 22/25\n",
            "60000/60000 [==============================] - 10s 169us/step - loss: 0.0031 - acc: 0.9823 - val_loss: 0.0057 - val_acc: 0.9630\n",
            "Epoch 23/25\n",
            "60000/60000 [==============================] - 11s 179us/step - loss: 0.0031 - acc: 0.9830 - val_loss: 0.0057 - val_acc: 0.9626\n",
            "Epoch 24/25\n",
            "60000/60000 [==============================] - 11s 184us/step - loss: 0.0029 - acc: 0.9837 - val_loss: 0.0057 - val_acc: 0.9626\n",
            "Epoch 25/25\n",
            "60000/60000 [==============================] - 11s 184us/step - loss: 0.0029 - acc: 0.9844 - val_loss: 0.0056 - val_acc: 0.9632\n"
          ],
          "name": "stdout"
        },
        {
          "output_type": "execute_result",
          "data": {
            "text/plain": [
              "<keras.callbacks.History at 0x7f7b6cedbd30>"
            ]
          },
          "metadata": {
            "tags": []
          },
          "execution_count": 93
        }
      ]
    },
    {
      "cell_type": "code",
      "metadata": {
        "id": "TBQfRsX-knD5",
        "colab_type": "code",
        "colab": {
          "base_uri": "https://localhost:8080/",
          "height": 72
        },
        "outputId": "be7aaad6-3ddf-4eb6-ccb6-33f01a8629c0"
      },
      "source": [
        "score = model.evaluate(x_test_1, y_test_1)\n",
        "print('loss:', score[0])\n",
        "print('正確率', score[1])"
      ],
      "execution_count": 94,
      "outputs": [
        {
          "output_type": "stream",
          "text": [
            "10000/10000 [==============================] - 1s 95us/step\n",
            "loss: 0.00561000154048088\n",
            "正確率 0.9632\n"
          ],
          "name": "stdout"
        }
      ]
    },
    {
      "cell_type": "markdown",
      "metadata": {
        "id": "l-oyR4TwBlVK",
        "colab_type": "text"
      },
      "source": [
        "## 結果：\n",
        "跟上次的結果比對是 **0.9632**  vs **0.9456**\n",
        "\n",
        "這次改的東西：\n",
        "\n",
        "1. \"sigmoid\"改成\"relu\"\n",
        "2. 加了分叉\n",
        "3. 改了epoch 和batch size"
      ]
    }
  ]
}