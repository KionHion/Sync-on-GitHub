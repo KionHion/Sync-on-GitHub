{
  "nbformat": 4,
  "nbformat_minor": 0,
  "metadata": {
    "colab": {
      "name": "HW10.ipynb",
      "version": "0.3.2",
      "provenance": []
    },
    "kernelspec": {
      "name": "python3",
      "display_name": "Python 3"
    },
    "accelerator": "TPU"
  },
  "cells": [
    {
      "cell_type": "code",
      "metadata": {
        "id": "lCS7ykPC7o-L",
        "colab_type": "code",
        "colab": {
          "base_uri": "https://localhost:8080/",
          "height": 34
        },
        "outputId": "4c13f1b5-1765-4a0d-e8f9-adf00e92e9ff"
      },
      "source": [
        "%env KERAS_BACKEND=tensorflow"
      ],
      "execution_count": 1,
      "outputs": [
        {
          "output_type": "stream",
          "text": [
            "env: KERAS_BACKEND=tensorflow\n"
          ],
          "name": "stdout"
        }
      ]
    },
    {
      "cell_type": "code",
      "metadata": {
        "id": "SY6ecG597qW6",
        "colab_type": "code",
        "colab": {
          "base_uri": "https://localhost:8080/",
          "height": 34
        },
        "outputId": "ab174611-b05e-484d-c8c4-a3248d6b2ddc"
      },
      "source": [
        "!pip install numpy==1.16.2\n",
        "import numpy as np\n",
        "print(np.__version__)"
      ],
      "execution_count": 2,
      "outputs": [
        {
          "output_type": "stream",
          "text": [
            "Requirement already satisfied: numpy==1.16.2 in /usr/local/lib/python3.6/dist-packages (1.16.2)\n"
          ],
          "name": "stdout"
        }
      ]
    },
    {
      "cell_type": "code",
      "metadata": {
        "id": "LOeqwEpU7qm-",
        "colab_type": "code",
        "colab": {}
      },
      "source": [
        "%matplotlib inline\n",
        "from keras.datasets import imdb\n",
        "import numpy as np\n",
        "import matplotlib.pyplot as plt\n",
        "\n",
        "from keras.preprocessing import sequence\n",
        "from keras.models import Sequential\n",
        "from keras.layers import Dense, Embedding #Embedding 就是把文字做一個編碼出來，比如，R dimension的文字空間，I'll compress it until 3-Dimension.另外一個用處就是不同的文字用不同的編碼\n",
        "from keras.layers import LSTM"
      ],
      "execution_count": 0,
      "outputs": []
    },
    {
      "cell_type": "markdown",
      "metadata": {
        "id": "0t6b14KwGuXe",
        "colab_type": "text"
      },
      "source": [
        "#HW10"
      ]
    },
    {
      "cell_type": "code",
      "metadata": {
        "id": "l6VRLnR27tJh",
        "colab_type": "code",
        "colab": {}
      },
      "source": [
        "(x_train, y_train), (x_test, y_test) = imdb.load_data(num_words=10000)"
      ],
      "execution_count": 0,
      "outputs": []
    },
    {
      "cell_type": "code",
      "metadata": {
        "id": "ssrhdJvQ7u7V",
        "colab_type": "code",
        "colab": {}
      },
      "source": [
        "x_train = sequence.pad_sequences(x_train, maxlen=300)\n",
        "x_test = sequence.pad_sequences(x_test, maxlen=300)\n",
        "\n",
        "N=150 #10 # 文字要壓到 N 維  \n",
        "K=8 #5 # LSTM 有 K 個神經元\n",
        "\n",
        "model = Sequential()\n",
        "\n",
        "model.add(Embedding(10000, N))\n",
        "model.add(LSTM(K))\n",
        "model.add(Dense(1, activation='sigmoid'))\n",
        "model.compile(loss='binary_crossentropy',\n",
        "              optimizer='adam',\n",
        "              metrics=['accuracy'])"
      ],
      "execution_count": 0,
      "outputs": []
    },
    {
      "cell_type": "code",
      "metadata": {
        "id": "q9P9sAxP9v1Q",
        "colab_type": "code",
        "colab": {
          "base_uri": "https://localhost:8080/",
          "height": 235
        },
        "outputId": "ce325543-54e3-40ee-c71a-ea8cca82402f"
      },
      "source": [
        "model.summary()"
      ],
      "execution_count": 22,
      "outputs": [
        {
          "output_type": "stream",
          "text": [
            "_________________________________________________________________\n",
            "Layer (type)                 Output Shape              Param #   \n",
            "=================================================================\n",
            "embedding_3 (Embedding)      (None, None, 150)         1500000   \n",
            "_________________________________________________________________\n",
            "lstm_3 (LSTM)                (None, 8)                 5088      \n",
            "_________________________________________________________________\n",
            "dense_3 (Dense)              (None, 1)                 9         \n",
            "=================================================================\n",
            "Total params: 1,505,097\n",
            "Trainable params: 1,505,097\n",
            "Non-trainable params: 0\n",
            "_________________________________________________________________\n"
          ],
          "name": "stdout"
        }
      ]
    },
    {
      "cell_type": "code",
      "metadata": {
        "id": "FnOp4nvDGf5J",
        "colab_type": "code",
        "colab": {
          "base_uri": "https://localhost:8080/",
          "height": 34
        },
        "outputId": "30dc61a7-44c9-4058-eac0-b7c506e2cedc"
      },
      "source": [
        "(4*(N+K)+4)*K"
      ],
      "execution_count": 25,
      "outputs": [
        {
          "output_type": "execute_result",
          "data": {
            "text/plain": [
              "5088"
            ]
          },
          "metadata": {
            "tags": []
          },
          "execution_count": 25
        }
      ]
    },
    {
      "cell_type": "code",
      "metadata": {
        "id": "bABciMGZ7yi3",
        "colab_type": "code",
        "colab": {
          "base_uri": "https://localhost:8080/",
          "height": 134
        },
        "outputId": "798e57d3-ab44-4e0c-a38d-2a0a9b306f35"
      },
      "source": [
        "model.fit(x_train, y_train,\n",
        "         batch_size=50,\n",
        "         epochs=3)"
      ],
      "execution_count": 23,
      "outputs": [
        {
          "output_type": "stream",
          "text": [
            "Epoch 1/3\n",
            "25000/25000 [==============================] - 102s 4ms/step - loss: 0.4361 - acc: 0.7983\n",
            "Epoch 2/3\n",
            "25000/25000 [==============================] - 100s 4ms/step - loss: 0.2434 - acc: 0.9068\n",
            "Epoch 3/3\n",
            "25000/25000 [==============================] - 101s 4ms/step - loss: 0.1707 - acc: 0.9406\n"
          ],
          "name": "stdout"
        },
        {
          "output_type": "execute_result",
          "data": {
            "text/plain": [
              "<keras.callbacks.History at 0x7f77e0459c88>"
            ]
          },
          "metadata": {
            "tags": []
          },
          "execution_count": 23
        }
      ]
    },
    {
      "cell_type": "markdown",
      "metadata": {
        "id": "6riJd2k-GyEW",
        "colab_type": "text"
      },
      "source": [
        "##試過了非常多次，最後終於突破87%"
      ]
    },
    {
      "cell_type": "code",
      "metadata": {
        "id": "abIPEL0Z70gm",
        "colab_type": "code",
        "colab": {
          "base_uri": "https://localhost:8080/",
          "height": 67
        },
        "outputId": "a7539f5d-7665-41dd-bcc7-2abebdccca20"
      },
      "source": [
        "score = model.evaluate(x_test, y_test)\n",
        "print(f'測試資料的 loss = {score[0]}')\n",
        "print(f'測試資正確率 = {score[1]}')"
      ],
      "execution_count": 24,
      "outputs": [
        {
          "output_type": "stream",
          "text": [
            "25000/25000 [==============================] - 24s 960us/step\n",
            "測試資料的 loss = 0.3601843245458603\n",
            "測試資正確率 = 0.87232\n"
          ],
          "name": "stdout"
        }
      ]
    }
  ]
}