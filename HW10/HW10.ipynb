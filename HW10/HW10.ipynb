{
  "nbformat": 4,
  "nbformat_minor": 0,
  "metadata": {
    "colab": {
      "name": "HW10.ipynb",
      "version": "0.3.2",
      "provenance": []
    },
    "kernelspec": {
      "name": "python3",
      "display_name": "Python 3"
    },
    "accelerator": "TPU"
  },
  "cells": [
    {
      "cell_type": "code",
      "metadata": {
        "id": "lCS7ykPC7o-L",
        "colab_type": "code",
        "colab": {
          "base_uri": "https://localhost:8080/",
          "height": 34
        },
        "outputId": "d698c22b-0810-4d2e-c7aa-368ec2c48273"
      },
      "source": [
        "%env KERAS_BACKEND=tensorflow"
      ],
      "execution_count": 29,
      "outputs": [
        {
          "output_type": "stream",
          "text": [
            "env: KERAS_BACKEND=tensorflow\n"
          ],
          "name": "stdout"
        }
      ]
    },
    {
      "cell_type": "code",
      "metadata": {
        "id": "RkiKDgV9JUni",
        "colab_type": "code",
        "colab": {}
      },
      "source": [
        "%matplotlib inline\n",
        "\n",
        "import numpy as np\n",
        "import matplotlib.pyplot as plt"
      ],
      "execution_count": 0,
      "outputs": []
    },
    {
      "cell_type": "code",
      "metadata": {
        "id": "SY6ecG597qW6",
        "colab_type": "code",
        "colab": {
          "base_uri": "https://localhost:8080/",
          "height": 50
        },
        "outputId": "674b94cf-4071-4327-801d-7bd460d963d0"
      },
      "source": [
        "!pip install numpy==1.16.2\n",
        "import numpy as np\n",
        "print(np.__version__)"
      ],
      "execution_count": 31,
      "outputs": [
        {
          "output_type": "stream",
          "text": [
            "Requirement already satisfied: numpy==1.16.2 in /usr/local/lib/python3.6/dist-packages (1.16.2)\n",
            "1.16.2\n"
          ],
          "name": "stdout"
        }
      ]
    },
    {
      "cell_type": "code",
      "metadata": {
        "id": "LOeqwEpU7qm-",
        "colab_type": "code",
        "colab": {}
      },
      "source": [
        "from keras.datasets import imdb\n",
        "from keras.preprocessing import sequence\n",
        "from keras.models import Sequential\n",
        "from keras.layers import Dense, Embedding #Embedding 就是把文字做一個編碼出來，比如，R dimension的文字空間，I'll compress it until 3-Dimension.另外一個用處就是不同的文字用不同的編碼\n",
        "from keras.layers import LSTM"
      ],
      "execution_count": 0,
      "outputs": []
    },
    {
      "cell_type": "code",
      "metadata": {
        "id": "l6VRLnR27tJh",
        "colab_type": "code",
        "colab": {}
      },
      "source": [
        "(x_train, y_train), (x_test, y_test) = imdb.load_data(num_words=10000)"
      ],
      "execution_count": 0,
      "outputs": []
    },
    {
      "cell_type": "code",
      "metadata": {
        "id": "ssrhdJvQ7u7V",
        "colab_type": "code",
        "colab": {}
      },
      "source": [
        "x_train = sequence.pad_sequences(x_train, maxlen=300)\n",
        "x_test = sequence.pad_sequences(x_test, maxlen=300)\n",
        "\n",
        "N=150  # 文字要壓到 N 維  \n",
        "K=8  # LSTM 有 K 個神經元\n",
        "\n",
        "model = Sequential()\n",
        "\n",
        "model.add(Embedding(10000, N))\n",
        "model.add(LSTM(K))\n",
        "model.add(Dense(1, activation='sigmoid'))\n",
        "model.compile(loss='binary_crossentropy',\n",
        "              optimizer='adam',\n",
        "              metrics=['accuracy'])"
      ],
      "execution_count": 0,
      "outputs": []
    },
    {
      "cell_type": "code",
      "metadata": {
        "id": "q9P9sAxP9v1Q",
        "colab_type": "code",
        "colab": {
          "base_uri": "https://localhost:8080/",
          "height": 235
        },
        "outputId": "e4200e0d-6ab1-48f0-af2f-a1e59a9b11b7"
      },
      "source": [
        "model.summary()"
      ],
      "execution_count": 36,
      "outputs": [
        {
          "output_type": "stream",
          "text": [
            "_________________________________________________________________\n",
            "Layer (type)                 Output Shape              Param #   \n",
            "=================================================================\n",
            "embedding_4 (Embedding)      (None, None, 150)         1500000   \n",
            "_________________________________________________________________\n",
            "lstm_4 (LSTM)                (None, 8)                 5088      \n",
            "_________________________________________________________________\n",
            "dense_4 (Dense)              (None, 1)                 9         \n",
            "=================================================================\n",
            "Total params: 1,505,097\n",
            "Trainable params: 1,505,097\n",
            "Non-trainable params: 0\n",
            "_________________________________________________________________\n"
          ],
          "name": "stdout"
        }
      ]
    },
    {
      "cell_type": "code",
      "metadata": {
        "id": "bABciMGZ7yi3",
        "colab_type": "code",
        "colab": {
          "base_uri": "https://localhost:8080/",
          "height": 134
        },
        "outputId": "798e57d3-ab44-4e0c-a38d-2a0a9b306f35"
      },
      "source": [
        "model.fit(x_train, y_train,\n",
        "         batch_size=50,\n",
        "         epochs=3)"
      ],
      "execution_count": 23,
      "outputs": [
        {
          "output_type": "stream",
          "text": [
            "Epoch 1/3\n",
            "25000/25000 [==============================] - 102s 4ms/step - loss: 0.4361 - acc: 0.7983\n",
            "Epoch 2/3\n",
            "25000/25000 [==============================] - 100s 4ms/step - loss: 0.2434 - acc: 0.9068\n",
            "Epoch 3/3\n",
            "25000/25000 [==============================] - 101s 4ms/step - loss: 0.1707 - acc: 0.9406\n"
          ],
          "name": "stdout"
        },
        {
          "output_type": "execute_result",
          "data": {
            "text/plain": [
              "<keras.callbacks.History at 0x7f77e0459c88>"
            ]
          },
          "metadata": {
            "tags": []
          },
          "execution_count": 23
        }
      ]
    },
    {
      "cell_type": "markdown",
      "metadata": {
        "id": "6riJd2k-GyEW",
        "colab_type": "text"
      },
      "source": [
        "##試過了非常多次，最後終於突破87%"
      ]
    },
    {
      "cell_type": "code",
      "metadata": {
        "id": "abIPEL0Z70gm",
        "colab_type": "code",
        "colab": {
          "base_uri": "https://localhost:8080/",
          "height": 67
        },
        "outputId": "a7539f5d-7665-41dd-bcc7-2abebdccca20"
      },
      "source": [
        "score = model.evaluate(x_test, y_test)\n",
        "print(f'測試資料的 loss = {score[0]}')\n",
        "print(f'測試資正確率 = {score[1]}')"
      ],
      "execution_count": 24,
      "outputs": [
        {
          "output_type": "stream",
          "text": [
            "25000/25000 [==============================] - 24s 960us/step\n",
            "測試資料的 loss = 0.3601843245458603\n",
            "測試資正確率 = 0.87232\n"
          ],
          "name": "stdout"
        }
      ]
    },
    {
      "cell_type": "markdown",
      "metadata": {
        "id": "4YzYo6k_IMRH",
        "colab_type": "text"
      },
      "source": [
        "發現如果batch size變大會比較快\n",
        "\n",
        "反之如果神經元變多也會變很慢"
      ]
    }
  ]
}