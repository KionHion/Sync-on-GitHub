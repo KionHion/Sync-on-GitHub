{
 "cells": [
  {
   "cell_type": "markdown",
   "metadata": {},
   "source": [
    "# 想要知道國際油價和長榮股價的關係\n",
    "\n",
    "資料來源：\n",
    "\n",
    "[國際油價](https://www.eia.gov/dnav/pet/hist/RBRTED.htm)\n",
    "[長榮](https://finance.yahoo.com/quote/2618.TW/history?period1=946915200&period2=1554998400&interval=1d&filter=history&frequency=1d)\n"
   ]
  },
  {
   "cell_type": "code",
   "execution_count": 156,
   "metadata": {},
   "outputs": [],
   "source": [
    "%matplotlib inline \n",
    "\n",
    "import numpy as np\n",
    "import matplotlib.pyplot as plt\n",
    "import pandas as pd\n",
    "import datetime as dt"
   ]
  },
  {
   "cell_type": "markdown",
   "metadata": {},
   "source": [
    "### 讀入資料後清理資料\n",
    "\n",
    "由於兩份資料是不一樣長度，因此要把這兩份資料整理成可以被concat的長度，以及在對的日期上連接上\n",
    "\n",
    "p.s. in order to parse through a 2-digit year, e.g. '90' rather than '1990', a %y is required instead of a %Y. \n",
    "\n",
    "Source:https://stackoverflow.com/questions/25015711/time-data-does-not-match-format"
   ]
  },
  {
   "cell_type": "code",
   "execution_count": 171,
   "metadata": {
    "scrolled": false
   },
   "outputs": [],
   "source": [
    "Evadf=pd.read_csv(r\"D:\\Users\\Desktop\\Eva Air.csv\")\n",
    "Evadf[\"Date\"]=pd.to_datetime(Evadf[\"Date\"], format=\"%d-%m-%y\")\n",
    "Evadf.index=Evadf[\"Date\"] #Resetting index as Date\n",
    "Evadf=Evadf.iloc[:,[5]]"
   ]
  },
  {
   "cell_type": "code",
   "execution_count": 173,
   "metadata": {
    "scrolled": false
   },
   "outputs": [],
   "source": [
    "Oildf=pd.read_excel(r\"D:\\Users\\Desktop\\Brent Crude Oil Price.xlsx\")\n",
    "Oildf.index=pd.to_datetime(Oildf[\"Date\"])\n",
    "Oildf[\"Date\"]=Oildf[\"Date\"].dt.strftime('%d/%m/%Y')\n",
    "Oildf=Oildf.iloc[:,[1]]"
   ]
  },
  {
   "cell_type": "markdown",
   "metadata": {},
   "source": [
    "Delete Row with NaN values"
   ]
  },
  {
   "cell_type": "code",
   "execution_count": 159,
   "metadata": {},
   "outputs": [],
   "source": [
    "Evadf.dropna(inplace=True)"
   ]
  },
  {
   "cell_type": "markdown",
   "metadata": {},
   "source": [
    "在整理好兩份資料都有在正確的日期對上後，現在來把他們concatenate"
   ]
  },
  {
   "cell_type": "code",
   "execution_count": null,
   "metadata": {},
   "outputs": [],
   "source": [
    "Combined_df=pd.concat([Evadf,Oildf], axis=1)"
   ]
  },
  {
   "cell_type": "markdown",
   "metadata": {},
   "source": [
    "把有NaN的Row剔除"
   ]
  },
  {
   "cell_type": "code",
   "execution_count": null,
   "metadata": {},
   "outputs": [],
   "source": [
    "Combined_df.dropna(inplace=True)"
   ]
  },
  {
   "cell_type": "markdown",
   "metadata": {},
   "source": [
    "## 開始做訓練"
   ]
  },
  {
   "cell_type": "code",
   "execution_count": 162,
   "metadata": {},
   "outputs": [],
   "source": [
    "from sklearn.linear_model import LinearRegression"
   ]
  },
  {
   "cell_type": "markdown",
   "metadata": {},
   "source": [
    "把它設定成可以被訓練的形式"
   ]
  },
  {
   "cell_type": "code",
   "execution_count": 163,
   "metadata": {},
   "outputs": [],
   "source": [
    "x=Combined_df.iloc[:,0]\n",
    "x=np.asarray(x)\n",
    "X=x.reshape(len(x), 1)"
   ]
  },
  {
   "cell_type": "code",
   "execution_count": 164,
   "metadata": {},
   "outputs": [],
   "source": [
    "y=Combined_df.iloc[:,1]\n",
    "y=np.asarray(y)\n",
    "Y=y.reshape(len(y),1)"
   ]
  },
  {
   "cell_type": "markdown",
   "metadata": {},
   "source": [
    "把80%的資料分隔成訓練的，20%Test的"
   ]
  },
  {
   "cell_type": "code",
   "execution_count": 165,
   "metadata": {},
   "outputs": [],
   "source": [
    "from sklearn.model_selection import train_test_split\n",
    "regr = LinearRegression()\n",
    "x_train, x_test, y_train, y_test = train_test_split(X, Y, test_size=0.2, random_state = 555)"
   ]
  },
  {
   "cell_type": "markdown",
   "metadata": {},
   "source": [
    "把資料放進去訓練"
   ]
  },
  {
   "cell_type": "code",
   "execution_count": 166,
   "metadata": {},
   "outputs": [
    {
     "data": {
      "text/plain": [
       "LinearRegression(copy_X=True, fit_intercept=True, n_jobs=1, normalize=False)"
      ]
     },
     "execution_count": 166,
     "metadata": {},
     "output_type": "execute_result"
    }
   ],
   "source": [
    "regr.fit(x_train, y_train)"
   ]
  },
  {
   "cell_type": "code",
   "execution_count": 167,
   "metadata": {},
   "outputs": [],
   "source": [
    "Y_pred = regr.predict(x_test)"
   ]
  },
  {
   "cell_type": "code",
   "execution_count": 175,
   "metadata": {
    "scrolled": true
   },
   "outputs": [
    {
     "data": {
      "text/plain": [
       "Text(0.5,0,'Eva Share Price')"
      ]
     },
     "execution_count": 175,
     "metadata": {},
     "output_type": "execute_result"
    },
    {
     "data": {
      "image/png": "[encoded data removed]",
      "text/plain": [
       "<Figure size 432x288 with 1 Axes>"
      ]
     },
     "metadata": {},
     "output_type": "display_data"
    }
   ],
   "source": [
    "plt.scatter(x_test, y_test)\n",
    "plt.plot(x_test, Y_pred, 'r')\n",
    "plt.title(\"Relation Between Oil Price and Eva Airline Share Price\")\n",
    "plt.ylabel(\"Oil Price\")\n",
    "plt.xlabel(\"Eva Share Price\")"
   ]
  }
 ],
 "metadata": {
  "kernelspec": {
   "display_name": "Python 3",
   "language": "python",
   "name": "python3"
  },
  "language_info": {
   "codemirror_mode": {
    "name": "ipython",
    "version": 3
   },
   "file_extension": ".py",
   "mimetype": "text/x-python",
   "name": "python",
   "nbconvert_exporter": "python",
   "pygments_lexer": "ipython3",
   "version": "3.6.5"
  }
 },
 "nbformat": 4,
 "nbformat_minor": 2
}
