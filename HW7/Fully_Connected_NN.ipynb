{
  "nbformat": 4,
  "nbformat_minor": 0,
  "metadata": {
    "colab": {
      "name": "Fully Connected NN.ipynb",
      "version": "0.3.2",
      "provenance": [],
      "collapsed_sections": []
    },
    "kernelspec": {
      "name": "python3",
      "display_name": "Python 3"
    }
  },
  "cells": [
    {
      "metadata": {
        "id": "OBqCTymMvdcV",
        "colab_type": "code",
        "colab": {
          "base_uri": "https://localhost:8080/",
          "height": 36
        },
        "outputId": "c84f6557-ca99-4864-aef0-ce3ea98dd413"
      },
      "cell_type": "code",
      "source": [
        "%env KERAS_BACKEND=tensorflow\n",
        "\n",
        "%matplotlib inline\n",
        "\n",
        "import numpy as np\n",
        "import matplotlib.pyplot as plt\n",
        "\n",
        "from keras.datasets import mnist\n",
        "from keras.utils import np_utils\n",
        "\n",
        "from keras.models import Sequential\n",
        "from keras.layers import Dense, Activation\n",
        "from keras.optimizers import SGD"
      ],
      "execution_count": 6,
      "outputs": [
        {
          "output_type": "stream",
          "text": [
            "env: KERAS_BACKEND=tensorflow\n"
          ],
          "name": "stdout"
        }
      ]
    },
    {
      "metadata": {
        "id": "02oIxs1zvjnD",
        "colab_type": "code",
        "colab": {}
      },
      "cell_type": "code",
      "source": [
        "(x_train_1, y_train_1), (x_test_1, y_test_1) = mnist.load_data()"
      ],
      "execution_count": 0,
      "outputs": []
    },
    {
      "metadata": {
        "id": "Q8eyiyrJ21_R",
        "colab_type": "text"
      },
      "cell_type": "markdown",
      "source": [
        "與其說一直改Node和Layer的數量，我花了比較多時間在調batch size和訓練的次數"
      ]
    },
    {
      "metadata": {
        "id": "RtfR4I8Uvsl2",
        "colab_type": "code",
        "colab": {}
      },
      "cell_type": "code",
      "source": [
        "x_train_1 = x_train_1.reshape(60000, 784)\n",
        "x_test_1 = x_test_1.reshape(10000, 784)\n",
        "\n",
        "y_train_1 = np_utils.to_categorical(y_train_1, 10)\n",
        "y_test_1 = np_utils.to_categorical(y_test_1, 10)\n",
        "\n",
        "model_1 = Sequential()\n",
        "\n",
        "model_1.add(Dense(90, input_dim=784))\n",
        "model_1.add(Activation('sigmoid'))\n",
        "\n",
        "model_1.add(Dense(50))\n",
        "model_1.add(Activation('sigmoid'))\n",
        "\n",
        "model_1.add(Dense(30))\n",
        "model_1.add(Activation('sigmoid'))\n",
        "\n",
        "\n",
        "model_1.add(Dense(10))\n",
        "model_1.add(Activation('softmax'))\n",
        "\n",
        "model_1.compile(loss='mse', optimizer=SGD(lr=0.08), metrics=['accuracy'])\n",
        "#model_1.fit(x_train_1, y_train_1, batch_size=50, epochs=30, verbose=1,validation_data=(x_test_1,y_test_1))\n",
        "#model_1.fit(x_train_1, y_train_1, batch_size=45, epochs=34, verbose=1,validation_data=(x_test_1,y_test_1)) #0.9168\n",
        "#model_1.fit(x_train_1, y_train_1, batch_size=40, epochs=34, verbose=1,validation_data=(x_test_1,y_test_1)) #0.9291\n",
        "#model_1.fit(x_train_1, y_train_1, batch_size=30, epochs=34, verbose=1,validation_data=(x_test_1,y_test_1)) #0.9318\n",
        "#model_1.fit(x_train_1, y_train_1, batch_size=40, epochs=50, verbose=1,validation_data=(x_test_1,y_test_1)) #0.9435\n",
        "#model_1.fit(x_train_1, y_train_1, batch_size=20, epochs=36, verbose=1,validation_data=(x_test_1,y_test_1))  #0.94\n",
        "#model_1.fit(x_train_1, y_train_1, batch_size=10, epochs=36, verbose=1,validation_data=(x_test_1,y_test_1)) #0.924\n",
        "#model_1.fit(x_train_1, y_train_1, batch_size=40, epochs=67, verbose=1,validation_data=(x_test_1,y_test_1)) #0.9497\n",
        "model_1.fit(x_train_1, y_train_1, batch_size=35, epochs=65, verbose=1,validation_data=(x_test_1,y_test_1)) \n",
        "predict = model_1.predict_classes(x_test_1) \n"
      ],
      "execution_count": 0,
      "outputs": []
    },
    {
      "metadata": {
        "id": "l9dSLbuAwW_6",
        "colab_type": "code",
        "colab": {
          "base_uri": "https://localhost:8080/",
          "height": 73
        },
        "outputId": "2012dc81-dd8f-4062-bb2f-7522563d17b9"
      },
      "cell_type": "code",
      "source": [
        "score = model_1.evaluate(x_test_1, y_test_1)\n",
        "print('loss:', score[0])\n",
        "print('正確率', score[1])"
      ],
      "execution_count": 56,
      "outputs": [
        {
          "output_type": "stream",
          "text": [
            "10000/10000 [==============================] - 0s 44us/step\n",
            "loss: 0.008601621074276046\n",
            "正確率 0.9456\n"
          ],
          "name": "stdout"
        }
      ]
    },
    {
      "metadata": {
        "id": "QJ79T5n3AkxB",
        "colab_type": "code",
        "colab": {}
      },
      "cell_type": "code",
      "source": [
        ""
      ],
      "execution_count": 0,
      "outputs": []
    }
  ]
}